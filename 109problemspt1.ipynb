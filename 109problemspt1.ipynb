{
 "cells": [
  {
   "cell_type": "markdown",
   "metadata": {},
   "source": [
    "# Grader"
   ]
  },
  {
   "cell_type": "code",
   "execution_count": 1,
   "metadata": {},
   "outputs": [],
   "source": [
    "def grader(grades):\n",
    "    lettergrade = []\n",
    "    for grade in grades:\n",
    "        if grade < 60:\n",
    "            lettergrade.append('F')\n",
    "        elif grade < 70:\n",
    "            lettergrade.append('D')\n",
    "        elif grade < 80:\n",
    "            lettergrade.append('C')\n",
    "        elif grade < 90:\n",
    "            lettergrade.append('B')\n",
    "        else:\n",
    "            lettergrade.append('A')\n",
    "        if grade >= 60:\n",
    "            if grade % 10 >= 7 or grade == 100:\n",
    "                lettergrade[-1] += '+'\n",
    "            elif grade % 10 <= 3:\n",
    "                lettergrade[-1] += '-'\n",
    "    return lettergrade\n"
   ]
  },
  {
   "cell_type": "code",
   "execution_count": 4,
   "metadata": {},
   "outputs": [
    {
     "name": "stdout",
     "output_type": "stream",
     "text": [
      "['F', 'C', 'A+', 'C-', 'B', 'F', 'A-', 'A+', 'B+']\n"
     ]
    }
   ],
   "source": [
    "n = [32,76,100,72,84,53,92,99,89]\n",
    "print(grader(n))"
   ]
  },
  {
   "cell_type": "markdown",
   "metadata": {},
   "source": [
    "# Ascending list"
   ]
  },
  {
   "cell_type": "code",
   "execution_count": 4,
   "metadata": {},
   "outputs": [
    {
     "name": "stdout",
     "output_type": "stream",
     "text": [
      "True\n",
      "False\n",
      "False\n",
      "True\n",
      "True\n"
     ]
    }
   ],
   "source": [
    "def is_ascending(n):\n",
    "    for i in range(1, len(n)):\n",
    "        if n[i] <= n[i-1]:\n",
    "            return False\n",
    "    return True\n",
    "\n",
    "print(is_ascending([]))\n",
    "print(is_ascending([1,2,3,5,4]))\n",
    "print(is_ascending([1,2,2,4,5]))\n",
    "print(is_ascending([1,2,3,4,5]))\n",
    "print(is_ascending([-1]))"
   ]
  },
  {
   "cell_type": "markdown",
   "metadata": {},
   "source": [
    "# Riffle"
   ]
  },
  {
   "cell_type": "code",
   "execution_count": 5,
   "metadata": {},
   "outputs": [
    {
     "name": "stdout",
     "output_type": "stream",
     "text": [
      "[1, 5, 2, 6, 3, 7, 4, 8]\n",
      "[5, 1, 6, 2, 7, 3, 8, 4]\n",
      "Deck must have an even number of cards\n",
      "['Bob', 'Tom', 'Sue', 'Lucy', 'Jim', 'Joe', 'Ann', 'Sue']\n",
      "['Tom', 'Bob', 'Lucy', 'Sue', 'Joe', 'Jim', 'Sue', 'Ann']\n"
     ]
    }
   ],
   "source": [
    "def riffle(deck,out = True):\n",
    "    if len(deck) % 2 != 0:\n",
    "        return 'Deck must have an even number of cards' \n",
    "    half = len(deck)//2\n",
    "    deck1 = deck[half:]\n",
    "    deck2 = deck[:half]\n",
    "    newdeck = []\n",
    "    if out:\n",
    "        for i in range(half):\n",
    "            newdeck.append(deck2[i])\n",
    "            newdeck.append(deck1[i])\n",
    "    if not out:\n",
    "        for i in range(half):\n",
    "            newdeck.append(deck1[i])\n",
    "            newdeck.append(deck2[i])\n",
    "    return newdeck\n",
    "\n",
    "deck = [1,2,3,4,5,6,7,8]\n",
    "print(riffle(deck))\n",
    "print(riffle(deck,False))\n",
    "print(riffle([1,2,3,4,5,6,7]))\n",
    "print(riffle(['Bob','Sue','Jim','Ann','Tom','Lucy','Joe','Sue']))\n",
    "print(riffle(['Bob','Sue','Jim','Ann','Tom','Lucy','Joe','Sue'],False))"
   ]
  },
  {
   "cell_type": "markdown",
   "metadata": {},
   "source": [
    "# Only Odd"
   ]
  },
  {
   "cell_type": "code",
   "execution_count": 6,
   "metadata": {},
   "outputs": [
    {
     "name": "stdout",
     "output_type": "stream",
     "text": [
      "True\n",
      "True\n",
      "False\n",
      "False\n",
      "False\n",
      "True\n"
     ]
    }
   ],
   "source": [
    "def only_odd(n):\n",
    "    number = str(n)\n",
    "    for digit in number:\n",
    "        if digit == '.' or digit == '-':\n",
    "            continue\n",
    "        if int(digit) % 2 == 0:\n",
    "            return False\n",
    "    return True\n",
    "\n",
    "print(only_odd(1357.9))\n",
    "print(only_odd(-135791))\n",
    "print(only_odd(-1357.92))\n",
    "print(only_odd(2468))\n",
    "print(only_odd(123456789))\n",
    "print(only_odd(3))"
   ]
  },
  {
   "cell_type": "markdown",
   "metadata": {},
   "source": [
    "Cyclops Number"
   ]
  },
  {
   "cell_type": "code",
   "execution_count": 7,
   "metadata": {},
   "outputs": [
    {
     "name": "stdout",
     "output_type": "stream",
     "text": [
      "False\n",
      "False\n",
      "False\n",
      "False\n",
      "True\n",
      "True\n",
      "True\n",
      "False\n"
     ]
    }
   ],
   "source": [
    "def cyclops_number(n):\n",
    "    number = n\n",
    "    i = 1\n",
    "    multi = 0\n",
    "    digit = True\n",
    "    while digit:\n",
    "        if n % 10 == 0:\n",
    "            multi += 1\n",
    "        if n // 10 == 0:\n",
    "            digit = False\n",
    "        else:\n",
    "            n = n // 10\n",
    "            i +=1\n",
    "    if i % 2 == 0:\n",
    "        return False\n",
    "    if multi != 1:\n",
    "        return False\n",
    "    else:\n",
    "        half = int((i+1)/2-1)\n",
    "        for j in range(half):\n",
    "            number = number//10\n",
    "        if number % 10 == 0:\n",
    "            return True\n",
    "        else:\n",
    "            return False\n",
    "print(cyclops_number(5))\n",
    "print(cyclops_number(21))\n",
    "print(cyclops_number(7057))\n",
    "print(cyclops_number(70570))\n",
    "print(cyclops_number(75071))\n",
    "print(cyclops_number(0))\n",
    "print(cyclops_number(101))\n",
    "print(cyclops_number(11010))\n"
   ]
  },
  {
   "cell_type": "markdown",
   "metadata": {},
   "source": [
    "Domino Cycle"
   ]
  },
  {
   "cell_type": "code",
   "execution_count": 8,
   "metadata": {},
   "outputs": [
    {
     "name": "stdout",
     "output_type": "stream",
     "text": [
      "True\n",
      "True\n",
      "False\n",
      "True\n",
      "True\n",
      "False\n",
      "True\n"
     ]
    }
   ],
   "source": [
    "def domino_cycle(tiles):\n",
    "    if len(tiles) == 0:\n",
    "        return True\n",
    "    if len(tiles) == 1:\n",
    "        if tiles[0][0] == tiles[0][1]:\n",
    "            return True\n",
    "        else: return False\n",
    "    pip = tiles[0][0]\n",
    "    for tile in tiles:\n",
    "        if tile[0] == pip:\n",
    "            pip = tile[1]\n",
    "        else: return False\n",
    "    return True\n",
    "\n",
    "print(domino_cycle([(1,2),(2,3),(3,1)]))\n",
    "print(domino_cycle([(1,2),(2,3),(3,4)]))\n",
    "print(domino_cycle([(1,2),(2,3),(3,4),(3,1)]))\n",
    "print(domino_cycle([(1,2),(2,3),(3,4),(4,5)]))\n",
    "print(domino_cycle([(4,4)]))\n",
    "print(domino_cycle([(1,2)]))\n",
    "print(domino_cycle([]))"
   ]
  },
  {
   "cell_type": "markdown",
   "metadata": {},
   "source": [
    "# Color trio"
   ]
  },
  {
   "cell_type": "code",
   "execution_count": null,
   "metadata": {},
   "outputs": [
    {
     "name": "stdout",
     "output_type": "stream",
     "text": [
      "y\n",
      "b\n",
      "r\n",
      "r\n",
      "y\n",
      "b\n"
     ]
    }
   ],
   "source": [
    "def color_trio(colors):\n",
    "    newcolors = []\n",
    "    x = len(colors)-1\n",
    "    #print(colors)\n",
    "    for i in range(x):\n",
    "        for j in range(len(colors)-1):\n",
    "            if colors[j] + colors[j+1] == 'rr' or colors[j] + colors[j+1] == 'yb' or colors[j] + colors[j+1] == 'by':\n",
    "                newcolors.append('r')\n",
    "            if colors[j] + colors[j+1] == 'yy' or colors[j] + colors[j+1] == 'br' or colors[j] + colors[j+1] == 'rb':\n",
    "                newcolors.append('y')\n",
    "            if colors[j] + colors[j+1] == 'bb' or colors[j] + colors[j+1] == 'ry' or colors[j] + colors[j+1] == 'yr':\n",
    "                newcolors.append('b')\n",
    "        colors = newcolors\n",
    "        #print(colors) #shows work\n",
    "        newcolors = []\n",
    "    return colors[0]\n",
    "\n",
    "\n",
    "print(color_trio('y'))\n",
    "print(color_trio('bb'))\n",
    "print(color_trio('rybyry'))\n",
    "print(color_trio('brybbr'))\n",
    "print(color_trio('rbyryrrbyrbb'))\n",
    "print(color_trio('yrbbbbryyrybb'))"
   ]
  },
  {
   "cell_type": "markdown",
   "metadata": {},
   "source": [
    "# Count Dominator"
   ]
  },
  {
   "cell_type": "code",
   "execution_count": 22,
   "metadata": {},
   "outputs": [
    {
     "name": "stdout",
     "output_type": "stream",
     "text": [
      "4\n",
      "0\n",
      "3\n",
      "4\n",
      "1\n",
      "1\n",
      "10000000\n"
     ]
    }
   ],
   "source": [
    "def count_dominator(items):\n",
    "    if len(items) == 0:\n",
    "        return 0\n",
    "    items.reverse()\n",
    "    dominator = items[0]\n",
    "    count = 1\n",
    "    for i in range(1,len(items)):\n",
    "        if items[i] > dominator:\n",
    "            dominator = items[i]\n",
    "            count+=1\n",
    "    return count\n",
    "\n",
    "print(count_dominator([42,7,12,9,1,5]))\n",
    "print(count_dominator([]))\n",
    "print(count_dominator([-2,5,-1,-3]))\n",
    "print(count_dominator([-10,-20,-30,-42]))\n",
    "print(count_dominator([42,42,42,42]))\n",
    "print(count_dominator(list(range(10**7))))\n",
    "print(count_dominator(list(range(10**7,0,-1))))\n",
    "\n"
   ]
  },
  {
   "cell_type": "markdown",
   "metadata": {},
   "source": [
    "# Beat the previous"
   ]
  },
  {
   "cell_type": "code",
   "execution_count": 30,
   "metadata": {},
   "outputs": [
    {
     "name": "stdout",
     "output_type": "stream",
     "text": [
      "[6]\n",
      "[0, 4, 5, 34]\n",
      "[7, 77, 777, 7777, 77777, 777777]\n",
      "[1, 2, 23, 33, 44, 445, 555, 566, 666]\n",
      "[1, 2, 3, 4, 12, 34, 123, 412, 3412, 34123, 41234, 123412, 341234, 1234123, 4123412, 34123412, 341234123, 412341234, 1234123412, 3412341234, 12341234123, 41234123412, 341234123412, 3412341234123, 4123412341234, 12341234123412, 34123412341234, 123412341234123, 412341234123412, 3412341234123412, 34123412341234123, 41234123412341234, 123412341234123412, 341234123412341234, 1234123412341234123, 4123412341234123412, 34123412341234123412, 341234123412341234123]\n"
     ]
    }
   ],
   "source": [
    "def extract_increasing(digits):\n",
    "    list = []\n",
    "    previous = -1\n",
    "    current = 0\n",
    "    if len(digits) == 0:\n",
    "        return list\n",
    "    for dig in digits:\n",
    "        current += int(dig)\n",
    "        if current > previous:\n",
    "            list.append(current)\n",
    "            previous = current\n",
    "            current = 0\n",
    "        else:\n",
    "            current = current*10\n",
    "    return list\n",
    "\n",
    "print(extract_increasing('600005'))\n",
    "print(extract_increasing('045349'))\n",
    "print(extract_increasing('77777777777777777777777'))\n",
    "print(extract_increasing('122333444455555666666'))\n",
    "print(extract_increasing('1234' * 100))"
   ]
  },
  {
   "cell_type": "markdown",
   "metadata": {},
   "source": [
    "# Subsequent Words"
   ]
  },
  {
   "cell_type": "code",
   "execution_count": 13,
   "metadata": {},
   "outputs": [
    {
     "name": "stdout",
     "output_type": "stream",
     "text": [
      "['azazel', 'azotetrazole', 'azoxazole', 'diazoaminobenzene', 'hazardize', 'razzmatazz']\n",
      "['bronchiectatic', 'bronchiogenic', 'bronchitic', 'ombrophilic', 'timbrophilic']\n",
      "['booklore', 'booklores', 'folklore', 'folklores', 'kaliborite', 'kenlore', 'kiloampere', 'kilocalorie', 'kilocurie', 'kilogramme', 'kilogrammetre', 'kilolitre', 'kilometrage', 'kilometre', 'kilooersted', 'kiloparsec', 'kilostere', 'kiloware']\n"
     ]
    }
   ],
   "source": [
    "file = 'words_sorted.txt'\n",
    "\n",
    "def is_subseq(x, y):\n",
    "    it = iter(y)\n",
    "    return all(c in it for c in x)\n",
    "\n",
    "def words_with_letters(words,letters):\n",
    "    output = []\n",
    "    with open(words) as f:\n",
    "        lines = [line.rstrip() for line in f]\n",
    "    for word in lines:\n",
    "        if is_subseq(letters,word):\n",
    "            output.append(word)\n",
    "    return output\n",
    "\n",
    "print(words_with_letters(file,'azaz'))\n",
    "print(words_with_letters(file,'brohiic'))\n",
    "print(words_with_letters(file,'klore'))"
   ]
  },
  {
   "cell_type": "markdown",
   "metadata": {},
   "source": [
    "# Taxi Zum  Zum"
   ]
  },
  {
   "cell_type": "code",
   "execution_count": 22,
   "metadata": {},
   "outputs": [
    {
     "name": "stdout",
     "output_type": "stream",
     "text": [
      "(3, 2)\n",
      "(0, 1)\n"
     ]
    }
   ],
   "source": [
    "def taxi_zum_zum(moves):\n",
    "    origin = [0,0]\n",
    "    taxi_D = 0\n",
    "    for move in moves:\n",
    "        if move == 'F':\n",
    "            if taxi_D % 4 == 0:\n",
    "                origin[1] +=1\n",
    "            if taxi_D % 4 == 2:\n",
    "                origin[1] -=1\n",
    "            if taxi_D % 4 == 1:\n",
    "                origin[0] +=1\n",
    "            if taxi_D % 4 == 3:\n",
    "                origin[0] -=1\n",
    "        elif move == 'R':\n",
    "            taxi_D += 1\n",
    "        elif move == 'L':\n",
    "            taxi_D -= 1\n",
    "    return tuple(origin)\n",
    "print(taxi_zum_zum('FFLLLFRLFLRFRLRRL'))\n",
    "print(taxi_zum_zum('FR' * 1729))\n"
   ]
  },
  {
   "cell_type": "markdown",
   "metadata": {},
   "source": [
    "# Exact Change"
   ]
  },
  {
   "cell_type": "code",
   "execution_count": 4,
   "metadata": {},
   "outputs": [
    {
     "name": "stdout",
     "output_type": "stream",
     "text": [
      "[42, 42, 11, 1, 1, 1, 1, 1]\n"
     ]
    }
   ],
   "source": [
    "def give_change(amount,coins):\n",
    "    coincount = []\n",
    "    while amount > 0:\n",
    "        for coin in coins:\n",
    "            while amount - coin >= 0:\n",
    "                amount = amount - coin\n",
    "                coincount.append(coin)\n",
    "    return coincount\n",
    "\n",
    "print(give_change(100,[42,17,11,6,1]))\n",
    "    "
   ]
  },
  {
   "cell_type": "markdown",
   "metadata": {},
   "source": [
    "# Rook Rampage"
   ]
  },
  {
   "cell_type": "code",
   "execution_count": 17,
   "metadata": {},
   "outputs": [
    {
     "name": "stdout",
     "output_type": "stream",
     "text": [
      "4\n",
      "100\n",
      "20\n",
      "1\n",
      "0\n",
      "3450\n"
     ]
    }
   ],
   "source": [
    "def safe_squares_rooks(n,rooks):\n",
    "    x = 0\n",
    "    y = 0\n",
    "    captureX = []\n",
    "    captureY = []\n",
    "    for rook in rooks:\n",
    "        if rook[0] not in captureX:\n",
    "            x += 1\n",
    "            captureX.append(rook[0])\n",
    "        if rook[1] not in captureY:\n",
    "            y += 1\n",
    "            captureY.append(rook[0])\n",
    "    return (n - len(captureX)) * (n - len(captureY))\n",
    "print(safe_squares_rooks(4,[(2, 3), (0, 1)]))\n",
    "print(safe_squares_rooks(10,[]))\n",
    "print(safe_squares_rooks(8,[(1, 1), (3, 5), (7, 0), (7, 6)]))\n",
    "print(safe_squares_rooks(2,[(1, 1)]))\n",
    "print(safe_squares_rooks(6,[(r, r) for r in range(6)]))\n",
    "print(safe_squares_rooks(100,[(r, (r*(r-1))%100) for r in range(0, 100, 2)]))"
   ]
  },
  {
   "cell_type": "markdown",
   "metadata": {},
   "source": [
    "# Words with Given Shape"
   ]
  },
  {
   "cell_type": "code",
   "execution_count": 30,
   "metadata": {},
   "outputs": [
    {
     "name": "stdout",
     "output_type": "stream",
     "text": [
      "['baba', 'baga', 'baja', 'baka', 'bake', 'bala', 'bald', 'bale', 'bali', 'balk', 'bana', 'banc', 'band', 'bane', 'bang', 'bani', 'bank', 'bara', 'barb', 'bard', 'bare', 'barf', 'bari', 'bark', 'barm', 'barn', 'base', 'bash', 'bask', 'bate', 'bath', 'bats', 'baud', 'bauk', 'baul', 'baun', 'bawd', 'bawl', 'bawn', 'baya', 'bays', 'baze', 'caba', 'caca', 'cafe', 'cage', 'caic', 'caid', 'cake', 'calc', 'calf', 'calk', 'camb', 'came', 'cana', 'canc', 'cand', 'cane', 'cank', 'caon', 'capa', 'cape', 'caph', 'capo', 'cara', 'card', 'care', 'carf', 'cark', 'carl', 'carn', 'caro', 'carp', 'casa', 'case', 'cash', 'cask', 'cate', 'cath', 'cats', 'cauf', 'cauk', 'caul', 'caum', 'caup', 'caus', 'cava', 'cave', 'cavu', 'cawk', 'cawl', 'caws', 'cays', 'caza', 'dada', 'dale', 'dalf', 'dali', 'dalk', 'dama', 'dame', 'dana', 'dand', 'dane', 'dang', 'dani', 'dank', 'darb', 'dard', 'dare', 'darg', 'dari', 'dark', 'darn', 'dase', 'dash', 'dasi', 'data', 'date', 'dato', 'daub', 'daud', 'dauk', 'daun', 'daur', 'daut', 'dave', 'dawe', 'dawk', 'dawn', 'daws', 'dawt', 'days', 'daza', 'daze', 'dazy', 'dbrn', 'earl', 'earn', 'ease', 'eath', 'eats', 'eave', 'eboe', 'ebon', 'eche', 'ecod', 'ecol', 'econ', 'ecus', 'edea', 'edge', 'edna', 'educ', 'faba', 'fage', 'fake', 'faki', 'fala', 'falk', 'fama', 'fame', 'fana', 'fand', 'fane', 'fang', 'faon', 'fard', 'fare', 'farl', 'farm', 'faro', 'fasc', 'fash', 'fate', 'fath', 'fats', 'faun', 'faut', 'favi', 'favn', 'fawe', 'fawn', 'fays', 'faze', 'fdub', 'feif', 'fele', 'feme', 'fend', 'feod', 'ferd', 'fere', 'ferk', 'fern', 'feta', 'fete', 'fets', 'feud', 'feus', 'gaea', 'gaed', 'gaga', 'gage', 'gaia', 'gala', 'gale', 'gali', 'gamb', 'game', 'gane', 'gang', 'gaol', 'gaon', 'gapa', 'gape', 'gapo', 'gara', 'garb', 'gard', 'gare', 'garg', 'garn', 'garo', 'gash', 'gasp', 'gata', 'gate', 'gats', 'gaub', 'gaud', 'gauk', 'gaul', 'gaum', 'gaun', 'gaup', 'gaur', 'gaus', 'gaut', 'gave', 'gawk', 'gawm', 'gawn', 'gawp', 'gays', 'gaze', 'gazi', 'gazy', 'geic', 'geld', 'gena', 'gene', 'genl', 'geod', 'geog', 'geol', 'geom', 'geon', 'gerb', 'gere', 'germ', 'geta', 'gets', 'geum', 'haec', 'haed', 'haha', 'haje', 'haji', 'hake', 'hala', 'hale', 'half', 'hame', 'hami', 'hand', 'hang', 'hank', 'hapi', 'harb', 'hard', 'hare', 'hark', 'harl', 'harm', 'harn', 'harp', 'hash', 'hask', 'hasn', 'hasp', 'hate', 'hath', 'hati', 'hats', 'haul', 'haum', 'haut', 'have', 'hawk', 'hawm', 'haws', 'haya', 'haye', 'hays', 'haze', 'hazy', 'hdkf', 'hdlc', 'hdwe', 'hehe', 'held', 'hele', 'heme', 'heml', 'hend', 'heng', 'hera', 'herb', 'herd', 'here', 'herl', 'herm', 'hern', 'hero', 'herp', 'hete', 'heth', 'heuk', 'hevi', 'hewe', 'hewn', 'hews', 'hewt', 'hexa', 'hexs', 'iamb', 'iare', 'ibid', 'iced', 'icod', 'icon', 'idea', 'idic', 'idle', 'idol', 'idyl', 'jaga', 'jake', 'jama', 'jamb', 'jami', 'jane', 'jank', 'jaob', 'jape', 'jara', 'jarg', 'jark', 'jarl', 'jarp', 'jasp', 'jati', 'jato', 'jauk', 'jaun', 'jaup', 'java', 'jawn', 'jawp', 'jaws', 'jays', 'jazy', 'jctn', 'jefe', 'jeon', 'jere', 'jerk', 'jerl', 'jerm', 'jete', 'jets', 'jews', 'jhvh', 'jina', 'jing', 'jink', 'jiri', 'jism', 'jiti', 'jiva', 'jive', 'kafa', 'kaha', 'kaid', 'kaif', 'kaka', 'kaki', 'kala', 'kale', 'kali', 'kama', 'kame', 'kami', 'kana', 'kand', 'kane', 'kang', 'kaon', 'kapa', 'kaph', 'kari', 'karl', 'karn', 'karo', 'kasa', 'kasm', 'kate', 'kath', 'kats', 'kava', 'kavi', 'kayo', 'kays', 'kazi', 'keid', 'keld', 'kele', 'kelk', 'kemb', 'kend', 'kepi', 'kerb', 'kerf', 'kerl', 'kern', 'kero', 'keta', 'keto', 'keup', 'keys', 'khud', 'kike', 'kiki', 'kina', 'kind', 'kine', 'king', 'kink', 'kipe', 'kiri', 'kirk', 'kirn', 'kish', 'kite', 'kith', 'kits', 'kiva', 'kivu', 'kiwi', 'kiyi', 'laic', 'laid', 'lake', 'lakh', 'lama', 'lamb', 'lame', 'lana', 'land', 'lane', 'lang', 'lank', 'lapb', 'lard', 'lare', 'lari', 'lark', 'larn', 'lasa', 'lase', 'lash', 'lasi', 'lask', 'lata', 'late', 'lath', 'lati', 'lats', 'laud', 'laun', 'laur', 'laus', 'lava', 'lave', 'lawk', 'lawn', 'laws', 'lays', 'laze', 'lazy', 'lege', 'leif', 'leme', 'lena', 'lend', 'lene', 'leng', 'leon', 'lepa', 'lere', 'lerp', 'lese', 'lete', 'leto', 'lets', 'leud', 'leuk', 'leva', 'leve', 'levi', 'levo', 'lewd', 'leys', 'lgth', 'lija', 'like', 'lila', 'lile', 'lima', 'limb', 'lime', 'lina', 'lind', 'line', 'ling', 'link', 'lion', 'lipa', 'lira', 'lire', 'lisa', 'lise', 'lish', 'lisk', 'lisp', 'lite', 'lith', 'liti', 'lits', 'live', 'liza', 'maba', 'maed', 'maga', 'mage', 'maha', 'maia', 'maid', 'maja', 'make', 'maki', 'mala', 'male', 'mali', 'mama', 'mana', 'mand', 'mane', 'mang', 'mani', 'mank', 'mapo', 'mara', 'marc', 'mare', 'marg', 'mari', 'mark', 'marl', 'marm', 'maro', 'masa', 'masc', 'mash', 'mask', 'mate', 'math', 'mats', 'maud', 'maul', 'maun', 'maut', 'mawk', 'mawn', 'mawp', 'maws', 'maxi', 'maya', 'mayo', 'mays', 'maza', 'maze', 'mazy', 'mdse', 'mela', 'meld', 'mele', 'mend', 'mene', 'meng', 'merc', 'merd', 'mere', 'merk', 'merl', 'mero', 'mesa', 'mese', 'mesh', 'meso', 'meta', 'mete', 'meth', 'mets', 'meum', 'mewl', 'mews', 'mezo', 'mike', 'miki', 'mila', 'mild', 'mile', 'milk', 'mima', 'mime', 'mimi', 'mina', 'mind', 'mine', 'ming', 'mini', 'mink', 'mira', 'mird', 'mire', 'miri', 'mirk', 'miro', 'misc', 'mise', 'miso', 'mite', 'mixe', 'mixt', 'mize', 'mktg', 'nada', 'naga', 'naib', 'naid', 'naif', 'naig', 'naja', 'nake', 'nale', 'nama', 'name', 'nana', 'nane', 'naoi', 'napa', 'nape', 'narc', 'nard', 'nare', 'nark', 'nasa', 'nash', 'nasi', 'naso', 'nate', 'natl', 'nato', 'natr', 'naur', 'naut', 'nave', 'navi', 'nawt', 'nays', 'naze', 'nazi', 'neif', 'nejd', 'nema', 'nene', 'neon', 'nepa', 'nerd', 'nere', 'neri', 'nese', 'nesh', 'nete', 'neth', 'neti', 'nets', 'neuk', 'neum', 'neut', 'neve', 'nevi', 'nevo', 'news', 'newt', 'next', 'nike', 'nile', 'nimb', 'nina', 'nine', 'ning', 'niog', 'nipa', 'nisi', 'nito', 'nits', 'niue', 'nixe', 'nizy', 'oath', 'oats', 'obia', 'obli', 'oboe', 'obol', 'obus', 'odea', 'odic', 'odso', 'odum', 'odyl', 'ogle', 'ogre', 'ogum', 'ohia', 'oime', 'oink', 'okra', 'okro', 'okta', 'olof', 'olpe', 'omni', 'onto', 'onus', 'onym', 'onyx', 'onza', 'paba', 'paca', 'paga', 'page', 'paha', 'paid', 'pala', 'pale', 'pali', 'pand', 'pane', 'pang', 'pani', 'pank', 'paon', 'papa', 'pape', 'para', 'parc', 'pard', 'pare', 'pari', 'park', 'parl', 'pase', 'pash', 'pasi', 'pask', 'paso', 'pata', 'patd', 'pate', 'path', 'pato', 'pats', 'paua', 'paul', 'paup', 'paut', 'pave', 'pavo', 'pawk', 'pawl', 'pawn', 'paws', 'pays', 'payt', 'pega', 'peke', 'pele', 'pelf', 'pend', 'peng', 'penk', 'peon', 'pepo', 'pere', 'perf', 'perh', 'peri', 'perk', 'perm', 'pern', 'perp', 'pesa', 'peso', 'pete', 'peto', 'petr', 'pets', 'peul', 'pews', 'pfui', 'phoh', 'phon', 'phut', 'phys', 'pika', 'pike', 'piki', 'pile', 'pili', 'pima', 'pina', 'pind', 'pine', 'ping', 'pink', 'pion', 'pipa', 'pipe', 'pipi', 'pirl', 'pirn', 'piro', 'pisa', 'pise', 'pish', 'pisk', 'piso', 'pita', 'pith', 'pits', 'pius', 'pize', 'plod', 'plud', 'plug', 'plum', 'plup', 'plur', 'plus', 'pmsg', 'pnxt', 'pnyx', 'pope', 'porc', 'pore', 'pork', 'porn', 'pose', 'posh', 'pote', 'poti', 'pots', 'pouf', 'pour', 'pout', 'pows', 'qaid', 'qats', 'qere', 'qeri', 'qoph', 'rada', 'rafe', 'raga', 'rage', 'raia', 'raid', 'raif', 'raja', 'rake', 'rakh', 'raki', 'rale', 'ralf', 'rama', 'rame', 'rami', 'rana', 'rand', 'rane', 'rang', 'rani', 'rank', 'raob', 'rape', 'rara', 'rare', 'rasa', 'rase', 'rash', 'rasp', 'rata', 'rate', 'rath', 'rato', 'rats', 'rauk', 'raul', 'raun', 'rave', 'ravi', 'raws', 'raya', 'rays', 'raze', 'rcvr', 'regd', 'reid', 'reif', 'reki', 'remi', 'rend', 'renk', 'repl', 'reqd', 'resh', 'resp', 'retd', 'rete', 'rets', 'reub', 'reve', 'revs', 'rhus', 'rile', 'rima', 'rime', 'rind', 'rine', 'ring', 'rink', 'ripa', 'ripe', 'rise', 'risk', 'risp', 'rita', 'rite', 'riva', 'rive', 'rivo', 'rope', 'rori', 'rosa', 'rose', 'rota', 'rote', 'roti', 'rotl', 'roto', 'rots', 'roub', 'roud', 'roue', 'roun', 'roup', 'rous', 'rout', 'rove', 'rows', 'rowt', 'royt', 'saba', 'safe', 'saga', 'sage', 'saic', 'said', 'saka', 'sake', 'saki', 'sala', 'sale', 'same', 'samh', 'sand', 'sane', 'sang', 'sank', 'sapa', 'sapo', 'sara', 'sard', 'sare', 'sari', 'sark', 'sasa', 'sash', 'sata', 'satd', 'sate', 'sati', 'sauf', 'saul', 'saum', 'saur', 'saut', 'save', 'sawn', 'saws', 'sawt', 'saxe', 'saya', 'says', 'scob', 'scog', 'sctd', 'scud', 'scug', 'scum', 'scun', 'scup', 'scur', 'scut', 'scye', 'scyt', 'sdlc', 'seid', 'seif', 'seld', 'sele', 'self', 'seme', 'semi', 'sena', 'send', 'sepd', 'sepg', 'sepn', 'sera', 'serb', 'sere', 'serf', 'serg', 'seri', 'sero', 'seta', 'seth', 'sets', 'seve', 'sewn', 'sews', 'sext', 'shia', 'shih', 'shoa', 'shod', 'shoe', 'shog', 'shri', 'shtg', 'shug', 'shul', 'shun', 'shut', 'shwa', 'sika', 'sike', 'sikh', 'sild', 'sile', 'silk', 'sima', 'sime', 'sina', 'sind', 'sine', 'sing', 'sinh', 'sink', 'siol', 'sion', 'sipe', 'sire', 'sise', 'sish', 'sisi', 'sita', 'site', 'sith', 'siti', 'sits', 'sium', 'siva', 'size', 'sizy', 'skol', 'skua', 'skun', 'skye', 'skys', 'slob', 'slod', 'sloe', 'slog', 'slon', 'slub', 'slud', 'slue', 'slug', 'slum', 'slup', 'slur', 'slut', 'smog', 'smug', 'smur', 'smut', 'snob', 'snod', 'snog', 'snub', 'snug', 'snum', 'snup', 'snur', 'snye', 'sope', 'soph', 'sora', 'sorb', 'sord', 'sore', 'sori', 'sorn', 'sosh', 'soso', 'soth', 'sots', 'soud', 'souk', 'soul', 'soum', 'soup', 'sour', 'sous', 'sowf', 'sowl', 'sown', 'sows', 'sowt', 'soya', 'soys', 'spud', 'spue', 'spug', 'spun', 'spur', 'sput', 'taha', 'taig', 'taka', 'take', 'tala', 'talc', 'tald', 'tale', 'tali', 'talk', 'tama', 'tame', 'tana', 'tane', 'tang', 'tanh', 'tank', 'tapa', 'tape', 'tara', 'tare', 'tari', 'tarn', 'taro', 'tarp', 'tash', 'task', 'tate', 'tath', 'tats', 'taum', 'taun', 'taur', 'taus', 'taut', 'tave', 'tavs', 'tawa', 'tawn', 'taws', 'taxa', 'taxi', 'tbsp', 'tche', 'tega', 'tela', 'tele', 'teli', 'tema', 'tend', 'teng', 'tepa', 'tepe', 'tera', 'teri', 'term', 'tern', 'terp', 'tete', 'teth', 'teuk', 'tewa', 'tews', 'text', 'thig', 'thob', 'thof', 'thon', 'thro', 'thud', 'thug', 'thus', 'tike', 'tiki', 'tile', 'time', 'tina', 'tinc', 'tind', 'tine', 'ting', 'tink', 'tipe', 'tipi', 'tire', 'tirl', 'tiro', 'tite', 'titi', 'tits', 'tiza', 'tnpk', 'tope', 'toph', 'topi', 'topo', 'tora', 'torc', 'tore', 'tori', 'torn', 'toro', 'tosh', 'tosk', 'tote', 'toto', 'tots', 'toug', 'toup', 'tour', 'tout', 'towd', 'town', 'tows', 'toxa', 'toyo', 'toys', 'toze', 'trub', 'true', 'trug', 'trun', 'tryp', 'tryt', 'tsun', 'uang', 'udic', 'udom', 'ugli', 'ulna', 'ulta', 'ulto', 'ulua', 'ulus', 'ulva', 'umph', 'unta', 'unto', 'unum', 'unze', 'ursa', 'urus', 'urva', 'usun', 'utum', 'vage', 'vale', 'vali', 'vane', 'vang', 'vara', 'vare', 'vari', 'vasa', 'vase', 'vats', 'vaus', 'vavs', 'vaws', 'vayu', 'vega', 'vela', 'veld', 'vena', 'vend', 'vera', 'verb', 'verd', 'veri', 'vern', 'vese', 'vesp', 'veta', 'veto', 'vets', 'vext', 'vila', 'vild', 'vile', 'vili', 'vina', 'vine', 'viol', 'vira', 'vire', 'virl', 'visa', 'vise', 'vita', 'vite', 'viti', 'viva', 'vive', 'vivo', 'vlsi', 'vota', 'vote', 'vows', 'wafd', 'wage', 'waif', 'waka', 'wake', 'wakf', 'wale', 'wali', 'walk', 'wame', 'wand', 'wane', 'wang', 'wank', 'warb', 'ward', 'ware', 'warf', 'wark', 'warl', 'warm', 'warn', 'warp', 'wase', 'wash', 'wasn', 'wasp', 'wath', 'wats', 'wauf', 'wauk', 'waul', 'waup', 'waur', 'wave', 'wawa', 'wawl', 'waws', 'ways', 'wega', 'weka', 'weki', 'weld', 'welf', 'weli', 'welk', 'wend', 'wene', 'were', 'werf', 'weri', 'wese', 'weta', 'wets', 'weve', 'weys', 'wezn', 'whid', 'whig', 'whoa', 'whod', 'whom', 'whse', 'whud', 'whun', 'whup', 'whyo', 'whys', 'wild', 'wile', 'wilk', 'wime', 'wind', 'wine', 'wing', 'wink', 'wipe', 'wird', 'wire', 'wirl', 'wise', 'wish', 'wisp', 'wite', 'with', 'wits', 'wive', 'wiwi', 'word', 'wore', 'work', 'worm', 'worn', 'wote', 'wots', 'wouf', 'wove', 'wows', 'wowt', 'wuzu', 'xctl', 'xema', 'xeme', 'xina', 'xipe', 'xosa', 'yaba', 'yaje', 'yaka', 'yalb', 'yald', 'yale', 'yali', 'yana', 'yang', 'yank', 'yapa', 'yarb', 'yard', 'yare', 'yark', 'yarl', 'yarm', 'yarn', 'yate', 'yati', 'yaud', 'yaup', 'yava', 'yawl', 'yawn', 'yawp', 'yaws', 'yaya', 'ycie', 'yeld', 'yelk', 'yeni', 'yeom', 'yerb', 'yerd', 'yere', 'yerk', 'yern', 'yese', 'yeso', 'yeta', 'yeth', 'yeti', 'yeuk', 'yews', 'yhwh', 'yike', 'yipe', 'yird', 'yirk', 'yirm', 'yirn', 'yite', 'yore', 'york', 'yote', 'youd', 'youl', 'youp', 'your', 'yous', 'yowe', 'yowl', 'yows', 'yowt', 'yoyo', 'zarf', 'zarp', 'zati', 'zeke', 'zeme', 'zemi', 'zend', 'zero', 'zeta', 'zeus', 'zila', 'zimb', 'zinc', 'zing', 'zink', 'zion', 'zipa', 'zira', 'ziti', 'zits', 'zori', 'zuza']\n"
     ]
    }
   ],
   "source": [
    "file = 'words_sorted.txt'\n",
    "def words_with_given_shape(words, shape):\n",
    "    output = []\n",
    "    with open(words) as f:\n",
    "        lines = [line.rstrip() for line in f]\n",
    "    for word in lines:\n",
    "        if len(shape) != len(word) - 1:\n",
    "            continue\n",
    "        Wshape = []\n",
    "        c1 = '0'\n",
    "        c2 = ''\n",
    "        for c in word:\n",
    "            c2 = c\n",
    "            if c1 == '0':\n",
    "                pass\n",
    "            else:\n",
    "                if c1 < c2:\n",
    "                    Wshape.append(1)\n",
    "                elif c1 > c2:\n",
    "                    Wshape.append(-1)\n",
    "                elif c1 == c2:\n",
    "                    Wshape.append(0)\n",
    "            c1 = c2\n",
    "        if Wshape == shape:\n",
    "            output.append(word)\n",
    "    return output\n",
    "\n",
    "print(words_with_given_shape(file,[-1, 1, -1]))\n"
   ]
  },
  {
   "cell_type": "code",
   "execution_count": 26,
   "metadata": {},
   "outputs": [
    {
     "name": "stdout",
     "output_type": "stream",
     "text": [
      "0\n",
      "160\n",
      "678\n",
      "1575\n",
      "[-1, 1, -1]\n"
     ]
    }
   ],
   "source": [
    "threeshapes = []\n",
    "max = 0\n",
    "for i in range(-1,2):\n",
    "    for j in range(-1,2):\n",
    "        for k in range(-1,2):\n",
    "            threeshapes.append([i,j,k])\n",
    "for shape in threeshapes:\n",
    "    temp = len(words_with_given_shape(file,shape))\n",
    "    if temp > max:\n",
    "        print(max)\n",
    "        max = temp\n",
    "        maxshape = shape\n",
    "print(max)\n",
    "print(maxshape)"
   ]
  },
  {
   "cell_type": "markdown",
   "metadata": {},
   "source": [
    "# Chirality"
   ]
  },
  {
   "cell_type": "code",
   "execution_count": 2,
   "metadata": {},
   "outputs": [
    {
     "name": "stdout",
     "output_type": "stream",
     "text": [
      "False\n",
      "True\n",
      "True\n",
      "False\n",
      "False\n",
      "True\n"
     ]
    }
   ],
   "source": [
    "def is_left_handed(pips):\n",
    "    output = False\n",
    "    if pips[0] < pips[1]:\n",
    "        if pips[1] < pips[2]:\n",
    "            output = True\n",
    "        elif pips[0] > pips[2]:\n",
    "            output = True\n",
    "    else:\n",
    "        if pips[1] < pips[2] and pips[0] > pips[2]:\n",
    "            output = True\n",
    "    return output\n",
    "print(is_left_handed([1,5,3]))\n",
    "print(is_left_handed([1,3,5]))\n",
    "print(is_left_handed([5,1,3]))\n",
    "print(is_left_handed([5,3,1]))\n",
    "print(is_left_handed([3,1,5]))\n",
    "print(is_left_handed([3,5,1]))"
   ]
  },
  {
   "cell_type": "markdown",
   "metadata": {},
   "source": [
    "# Winning the trick"
   ]
  },
  {
   "cell_type": "code",
   "execution_count": 15,
   "metadata": {},
   "outputs": [
    {
     "name": "stdout",
     "output_type": "stream",
     "text": [
      "('jack', 'spades')\n",
      "('two', 'clubs')\n",
      "('two', 'clubs')\n",
      "('jack', 'hearts')\n",
      "('two', 'diamonds')\n"
     ]
    }
   ],
   "source": [
    "deck =['init','two','three','four','five','six','seven','eight','nine','ten','jack','queen','king','ace']\n",
    "def winning_cards(cards,trump = None):\n",
    "    initialSuit = cards[0][1]\n",
    "    hasTrump = False\n",
    "    highCard = 'init'\n",
    "    winner = ('no','cards')\n",
    "    for card in cards:\n",
    "        if hasTrump == False:\n",
    "            if card[1] == initialSuit:\n",
    "                if deck.index(card[0]) > deck.index(highCard):\n",
    "                    winner = card\n",
    "                    highCard = card[0]\n",
    "            elif card[1] == trump:\n",
    "                winner = card\n",
    "                highCard = card[0]\n",
    "                hasTrump = True\n",
    "        else:\n",
    "            if card[1] == trump:\n",
    "                if deck.index(card[0]) > deck.index(highCard):\n",
    "                    winner = card\n",
    "                    highCard = card[0]\n",
    "    return winner\n",
    "\n",
    "print(winning_cards([('three', 'spades'), ('ace', 'diamonds'), ('jack',\n",
    "'spades'), ('eight', 'spades')]))\n",
    "print(winning_cards([('ace', 'diamonds'), ('ace', 'hearts'), ('ace',\n",
    "'spades'), ('two', 'clubs')],'clubs'))\n",
    "print(winning_cards([('two', 'clubs'), ('ace', 'diamonds'), ('ace',\n",
    "'hearts'), ('ace', 'spades')]))\n",
    "print(winning_cards([('six', 'hearts'), ('ace', 'spades'), ('three',\n",
    "'hearts'), ('jack', 'hearts')],'hearts'))\n",
    "print(winning_cards([('jack', 'spades'), ('queen', 'spades'), ('eight',\n",
    "'spades'), ('two', 'diamonds')],'diamonds'))"
   ]
  },
  {
   "cell_type": "markdown",
   "metadata": {},
   "source": [
    "# Multidimensional Knights"
   ]
  },
  {
   "cell_type": "code",
   "execution_count": 19,
   "metadata": {},
   "outputs": [
    {
     "name": "stdout",
     "output_type": "stream",
     "text": [
      "True\n",
      "False\n"
     ]
    }
   ],
   "source": [
    "def knight_jump(knight, start, end):\n",
    "    validMoves = []\n",
    "    output = True\n",
    "    for i in range(len(knight)):\n",
    "        validMoves.append(abs(start[i]-end[i]))\n",
    "    for dim in knight:\n",
    "        if dim in validMoves:\n",
    "            validMoves.remove(dim)\n",
    "        else:\n",
    "            output = False\n",
    "    return output\n",
    "print(knight_jump((7, 5, 1),(15, 11, 16),(8, 12, 11)))\n",
    "print(knight_jump((9, 7, 6, 5, 1),(19, 12, 14, 11, 20),(24, 3, 20, 11, 13)))\n"
   ]
  },
  {
   "cell_type": "markdown",
   "metadata": {},
   "source": [
    "# Sevens over zeros"
   ]
  },
  {
   "cell_type": "code",
   "execution_count": 35,
   "metadata": {},
   "outputs": [
    {
     "data": {
      "text/plain": [
       "7777777777777777777777777777777777"
      ]
     },
     "execution_count": 35,
     "metadata": {},
     "output_type": "execute_result"
    }
   ],
   "source": [
    "def seven_zero(n):\n",
    "    i = 0\n",
    "    x = True\n",
    "    while x == True:\n",
    "        d = 7 * (10**i)\n",
    "        if d % n == 0:\n",
    "            output = d\n",
    "            x = False\n",
    "        for j in range(i,0,-1):\n",
    "            d += 7 * (10**(j-1))\n",
    "            if d % n == 0:\n",
    "                output = d\n",
    "                x = False\n",
    "        i += 1\n",
    "    return output\n",
    "seven_zero(103)"
   ]
  },
  {
   "cell_type": "markdown",
   "metadata": {},
   "source": [
    "# Fulcrum"
   ]
  },
  {
   "cell_type": "code",
   "execution_count": 49,
   "metadata": {},
   "outputs": [
    {
     "data": {
      "text/plain": [
       "0"
      ]
     },
     "execution_count": 49,
     "metadata": {},
     "output_type": "execute_result"
    }
   ],
   "source": [
    "def can_balance(items):\n",
    "    output = -1\n",
    "    for i in range(len(items)):\n",
    "        left = 0\n",
    "        right = 0\n",
    "        for j in range(i,-1,-1):\n",
    "            left += items[j] * (i-j)\n",
    "        for k in range(i,len(items)):\n",
    "            right += items[k] * (k-i)\n",
    "        if left == right:\n",
    "            output = i\n",
    "            break\n",
    "    return output\n",
    "\n",
    "can_balance([42])"
   ]
  },
  {
   "cell_type": "markdown",
   "metadata": {},
   "source": [
    "# Joesephus"
   ]
  },
  {
   "cell_type": "code",
   "execution_count": null,
   "metadata": {},
   "outputs": [
    {
     "data": {
      "text/plain": [
       "[10, 1, 9, 5, 2, 8, 7, 3, 6, 4]"
      ]
     },
     "execution_count": 73,
     "metadata": {},
     "output_type": "execute_result"
    }
   ],
   "source": [
    "def joesephus(n,k):\n",
    "    living = [i+1 for i in range(n)] # list of length n starting at 1, iterating at 1.\n",
    "    dead = []\n",
    "    next = 1 # inital 'next man up' is at position 1\n",
    "    while len(living) > 0:\n",
    "        while next in dead: # Loop to find next alive man is next man is already dead\n",
    "            next = (next+1) % n\n",
    "            if next == 0: next = n\n",
    "        kill = living[(living.index(next) +(k-1)) % len(living)] # kills k-1 from next man\n",
    "        living.remove(kill)\n",
    "        dead.append(kill)\n",
    "        next = (kill + 1) % n # new next man is immediately after killed man\n",
    "        if next == 0: next = n\n",
    "    return dead\n",
    "\n",
    "\n",
    "joesephus(10,10**100)"
   ]
  },
  {
   "cell_type": "markdown",
   "metadata": {},
   "source": [
    "# ALL your Base"
   ]
  },
  {
   "cell_type": "code",
   "execution_count": 78,
   "metadata": {},
   "outputs": [
    {
     "data": {
      "text/plain": [
       "[1, 1, 1, 1, 1, 1, 1, 1]"
      ]
     },
     "execution_count": 78,
     "metadata": {},
     "output_type": "execute_result"
    }
   ],
   "source": [
    "def group_and_skip(n, out, ins):\n",
    "    output = []\n",
    "    while n > 0:\n",
    "        output.append(n%out)\n",
    "        n = ins * int(((n-n%out)/out))\n",
    "    return output\n",
    "group_and_skip(255,2,1)"
   ]
  },
  {
   "cell_type": "markdown",
   "metadata": {},
   "source": [
    "# Brass Monkey"
   ]
  },
  {
   "cell_type": "code",
   "execution_count": 7,
   "metadata": {},
   "outputs": [
    {
     "data": {
      "text/plain": [
       "2333331833333500000"
      ]
     },
     "execution_count": 7,
     "metadata": {},
     "output_type": "execute_result"
    }
   ],
   "source": [
    "def pyramid_blocks(n, m, h):\n",
    "    spheres = 0\n",
    "    for i in range(0,h,1):\n",
    "        spheres += (n+i)*(m+i)\n",
    "    return spheres\n",
    "\n",
    "pyramid_blocks(10**6,10**6,10**6)"
   ]
  },
  {
   "cell_type": "markdown",
   "metadata": {},
   "source": [
    "# Count growlers"
   ]
  },
  {
   "cell_type": "code",
   "execution_count": 17,
   "metadata": {},
   "outputs": [
    {
     "name": "stdout",
     "output_type": "stream",
     "text": [
      "1\n",
      "3\n",
      "4\n",
      "5\n",
      "6\n",
      "7\n",
      "8\n",
      "9\n",
      "12\n",
      "13\n",
      "15\n"
     ]
    },
    {
     "data": {
      "text/plain": [
       "11"
      ]
     },
     "execution_count": 17,
     "metadata": {},
     "output_type": "execute_result"
    }
   ],
   "source": [
    "def count_growlers(animals):\n",
    "    green = 0\n",
    "    ccount = 0\n",
    "    dcount = 0\n",
    "    for i in range(len(animals)):\n",
    "        if animals[i] == 'dog' or animals[i] == 'cat':\n",
    "            for j in range(0,i):\n",
    "                if animals[j] == 'cat' or animals[j] == 'tac': ccount +=1\n",
    "                if animals[j] == 'dog' or animals[j] == 'god': dcount +=1\n",
    "        if animals[i] == 'god' or animals[i] == 'tac':\n",
    "            for k in range(i+1,len(animals)):\n",
    "                if animals[k] == 'cat' or animals[k] == 'tac': ccount +=1\n",
    "                if animals[k] == 'dog' or animals[k] == 'god': dcount +=1\n",
    "        if dcount > ccount: \n",
    "            green +=1\n",
    "            print(i)\n",
    "        dcount = 0\n",
    "        ccount = 0\n",
    "    return green\n",
    "\n",
    "count_growlers(['dog', 'cat', 'dog', 'god', 'dog', 'god', 'dog', 'god',\n",
    "'dog', 'dog', 'god', 'god', 'cat', 'dog', 'god', 'cat',\n",
    "'tac'])"
   ]
  },
  {
   "cell_type": "markdown",
   "metadata": {},
   "source": [
    "# Bulgarian Solitaire"
   ]
  },
  {
   "cell_type": "code",
   "execution_count": 48,
   "metadata": {},
   "outputs": [
    {
     "data": {
      "text/plain": [
       "74"
      ]
     },
     "execution_count": 48,
     "metadata": {},
     "output_type": "execute_result"
    }
   ],
   "source": [
    "def bulgarian_solitaire(piles,k):\n",
    "    klist = []\n",
    "    for i in range(1,k+1,1): klist.append(i)\n",
    "    steps = 0\n",
    "    while sorted(piles) != klist:\n",
    "        newPiles = []\n",
    "        steps += 1\n",
    "        for pile in piles:\n",
    "            if pile > 1:\n",
    "                newPiles.append(pile-1)\n",
    "        newPiles.append(len(piles))\n",
    "        piles = newPiles\n",
    "    return steps\n",
    "bulgarian_solitaire([10, 10, 10, 10, 10, 5],10)"
   ]
  }
 ],
 "metadata": {
  "kernelspec": {
   "display_name": "dev",
   "language": "python",
   "name": "python3"
  },
  "language_info": {
   "codemirror_mode": {
    "name": "ipython",
    "version": 3
   },
   "file_extension": ".py",
   "mimetype": "text/x-python",
   "name": "python",
   "nbconvert_exporter": "python",
   "pygments_lexer": "ipython3",
   "version": "3.10.16"
  }
 },
 "nbformat": 4,
 "nbformat_minor": 2
}
