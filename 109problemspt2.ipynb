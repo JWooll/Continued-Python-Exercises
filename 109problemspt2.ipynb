{
 "cells": [
  {
   "cell_type": "markdown",
   "metadata": {},
   "source": [
    "# Scylla and Charbydis"
   ]
  },
  {
   "cell_type": "code",
   "execution_count": 31,
   "metadata": {},
   "outputs": [
    {
     "name": "stdout",
     "output_type": "stream",
     "text": [
      "3\n",
      "5\n",
      "7\n",
      "1\n"
     ]
    }
   ],
   "source": [
    "def scylla_or_charybdis(moves, n):\n",
    "    champ = 0\n",
    "    leastmove = 1000000\n",
    "    for k in range(1,(len(moves)//2)):\n",
    "        counter = 0\n",
    "        kcount = 0\n",
    "        step = 0\n",
    "        for move in moves:\n",
    "            counter+=1\n",
    "            if counter % k == 0:\n",
    "                kcount +=1\n",
    "                if move == '+': step += 1\n",
    "                else: step -= 1\n",
    "            if abs(step) >= n:\n",
    "                #print(f\"{kcount} {k}\")\n",
    "                if kcount < leastmove:\n",
    "                    champ = k\n",
    "                    leastmove = kcount\n",
    "                \n",
    "    return champ\n",
    "\n",
    "print(scylla_or_charybdis('-++--++-++++',2))\n",
    "print(scylla_or_charybdis('--++++---+-++-+++++++++++',5))\n",
    "print(scylla_or_charybdis('+-++---+-+-++-+++----+++-++-+---+--++++++++++',5))\n",
    "print(scylla_or_charybdis('+--++---+-++-+++------+++++---++-+--+++-+--++-++-++-+-++++++++++++++++++',9))\n",
    "\n"
   ]
  },
  {
   "cell_type": "markdown",
   "metadata": {},
   "source": [
    "# Artithmetic progression"
   ]
  },
  {
   "cell_type": "code",
   "execution_count": 44,
   "metadata": {},
   "outputs": [
    {
     "name": "stdout",
     "output_type": "stream",
     "text": [
      "(42, 0, 1)\n",
      "(2, 34, 9)\n",
      "(7, 87, 9)\n",
      "(0, 1, 100)\n"
     ]
    }
   ],
   "source": [
    "def arithmetic_progression(items):\n",
    "    if len(items) == 1: return (items[0],0,1)\n",
    "    bestcount = 0\n",
    "    for i in range(len(items)):\n",
    "        for j in range(i+1,len(items)):\n",
    "            count = 1\n",
    "            diff = items[j] - items[i]\n",
    "            while items[i] + (count*diff) in items:\n",
    "                count += 1\n",
    "            if count > bestcount:\n",
    "                bestcount = count\n",
    "                beststart = items[i]\n",
    "                beststride = diff\n",
    "    return (beststart,beststride,bestcount)\n",
    "\n",
    "print(arithmetic_progression([42]))\n",
    "print(arithmetic_progression([1, 2, 36, 49, 50, 70, 75, 98, 104, 138, 146, 148,\n",
    "172, 206, 221, 240, 274, 294, 367, 440]))\n",
    "print(arithmetic_progression([2, 3, 7, 20, 25, 26, 28, 30, 32, 34, 36, 41, 53,\n",
    "57, 73, 89, 94, 103, 105, 121, 137, 181, 186, 268,\n",
    "278, 355, 370, 442, 462, 529, 554, 616, 646, 703]))\n",
    "print(arithmetic_progression(range(100)))"
   ]
  },
  {
   "cell_type": "markdown",
   "metadata": {},
   "source": [
    "# Tukey Median"
   ]
  },
  {
   "cell_type": "code",
   "execution_count": 4,
   "metadata": {},
   "outputs": [
    {
     "name": "stdout",
     "output_type": "stream",
     "text": [
      "[15]\n",
      "[15]\n"
     ]
    }
   ],
   "source": [
    "\n",
    "def tukeys_ninthers(items):\n",
    "    newtrip = items\n",
    "    while len(newtrip) > 1:\n",
    "        triplets = [newtrip[i:i + 3] for i in range(0, len(newtrip), 3)]\n",
    "        newtrip = []\n",
    "        for triplet in triplets:\n",
    "            if (triplet[0] > triplet[1] and triplet[0] < triplet[2]) or (triplet[0] < triplet[1] and triplet[0] > triplet[2]):\n",
    "                newtrip.append(triplet[0])\n",
    "            elif (triplet[1] > triplet[0] and triplet[1] < triplet[2]) or (triplet[1] < triplet[0] and triplet[1] > triplet[2]):\n",
    "                newtrip.append(triplet[1])\n",
    "            else: newtrip.append(triplet[2])\n",
    "    return newtrip\n",
    "\n",
    "print(tukeys_ninthers([42,7,15]))\n",
    "print(tukeys_ninthers([55, 99, 131, 42, 88, 11, 17, 16, 104, 2, 8, 7, 0, 1,\n",
    "69, 8, 93, 9, 12, 11, 16, 1, 77, 90, 15, 4, 123]))\n"
   ]
  },
  {
   "cell_type": "markdown",
   "metadata": {},
   "source": [
    "# Inverse Permutation"
   ]
  },
  {
   "cell_type": "code",
   "execution_count": 21,
   "metadata": {},
   "outputs": [
    {
     "name": "stdout",
     "output_type": "stream",
     "text": [
      "7\n",
      "1000001\n"
     ]
    }
   ],
   "source": [
    "def collect_numbers(perm):\n",
    "    inv = list(range(len(perm)))\n",
    "    for i in range(len(perm)):\n",
    "        inv[perm[i]] = i\n",
    "    prev = inv[0] + 1\n",
    "    rounds = 0\n",
    "    for val in inv:\n",
    "        if val < prev: rounds += 1\n",
    "        prev = val\n",
    "    return rounds\n",
    "print(collect_numbers([8, 6, 9, 5, 4, 11, 2, 0, 3, 10, 12, 1, 7]))\n",
    "print(collect_numbers(list(range(10**6, -1, -1))))"
   ]
  },
  {
   "cell_type": "code",
   "execution_count": null,
   "metadata": {},
   "outputs": [
    {
     "name": "stdout",
     "output_type": "stream",
     "text": [
      "False\n",
      "True\n",
      "True\n",
      "False\n"
     ]
    }
   ],
   "source": [
    "def verify_betweenness(perm, constraints):\n",
    "    inv = list(range(len(perm)))\n",
    "    for i in range(len(perm)):\n",
    "        inv[perm[i]] = i\n",
    "    result = True    \n",
    "    for constraint in constraints:\n",
    "        if inv[constraint[1]] > inv[constraint[0]] and inv[constraint[1]] > inv[constraint[2]]:\n",
    "            result = False\n",
    "        if inv[constraint[1]] < inv[constraint[0]] and inv[constraint[1]] < inv[constraint[2]]:\n",
    "            result = False\n",
    "    return result\n",
    "\n",
    "print(verify_betweenness([2, 0, 3, 1],[(0, 2, 1), (1, 3, 0), (1, 3, 2)]))\n",
    "print(verify_betweenness([0, 2, 3, 5, 4, 1],[(0, 3, 1), (4, 2, 0)]))\n",
    "print(verify_betweenness([5, 2, 0, 3, 1, 4],[(4, 3, 5), (2, 0, 4), (2, 1, 4),(1, 2, 5), (4, 0, 5)]))\n",
    "print(verify_betweenness([6, 1, 0, 3, 2, 4, 5],[(2, 3, 4), (4, 0, 3)]))\n",
    "        "
   ]
  },
  {
   "cell_type": "markdown",
   "metadata": {},
   "source": [
    "# Count Trokia"
   ]
  },
  {
   "cell_type": "code",
   "execution_count": 75,
   "metadata": {},
   "outputs": [
    {
     "name": "stdout",
     "output_type": "stream",
     "text": [
      "4\n",
      "3\n",
      "5\n",
      "8\n",
      "15\n",
      "2450\n"
     ]
    }
   ],
   "source": [
    "def count_troikas(items):\n",
    "    troika = 0\n",
    "    itemDic = dict()\n",
    "    for i in range(len(items)):\n",
    "        if items[i] not in itemDic:\n",
    "            itemDic[items[i]] = []\n",
    "        itemDic[items[i]].append(i)\n",
    "    for item in itemDic: \n",
    "        for j in range(len(itemDic[item])):\n",
    "            for k in range(j+1,len(itemDic[item])):\n",
    "                if itemDic[item][k] + (itemDic[item][k]-itemDic[item][j]) in itemDic[item]:\n",
    "                    #print(f\"{item},{j},{k}\")\n",
    "                    troika += 1\n",
    "    return troika\n",
    "print(count_troikas([42, 17, 42, 42, 42, 99, 42]))\n",
    "print(count_troikas([-8, -8, -8, -18, -8, 13, -8]))\n",
    "print(count_troikas([3, 6, 3, 6, 3, 6, 6, 6, 3]))\n",
    "print(count_troikas([23, 23, 23, 23, 23, 23, 16, 23]))\n",
    "print(count_troikas([21, 21, 21, 21, 21, 21, 21, -41, 21, 76, 21, -71, 47]))\n",
    "print(count_troikas([42 for _ in range(100)]))\n",
    "\n",
    "        "
   ]
  },
  {
   "cell_type": "code",
   "execution_count": 34,
   "metadata": {},
   "outputs": [
    {
     "data": {
      "text/plain": [
       "['value', 'eulav']"
      ]
     },
     "execution_count": 34,
     "metadata": {},
     "output_type": "execute_result"
    }
   ],
   "source": [
    "testdic = dict()\n",
    "testdic[42] = []\n",
    "testdic[42].append('value')\n",
    "testdic[42].append('eulav')\n",
    "testdic[42]"
   ]
  },
  {
   "cell_type": "markdown",
   "metadata": {},
   "source": [
    "# Optimal Crag"
   ]
  },
  {
   "cell_type": "code",
   "execution_count": 78,
   "metadata": {},
   "outputs": [
    {
     "name": "stdout",
     "output_type": "stream",
     "text": [
      "Low Straight\n",
      "20\n",
      "5's\n",
      "5\n",
      "Three of a Kind\n",
      "25\n",
      "Crag!\n",
      "50\n",
      "Three of a Kind\n",
      "25\n",
      "1's\n",
      "2\n"
     ]
    }
   ],
   "source": [
    "def crag_score(dice):\n",
    "    if dice[0] + dice[1] + dice[2] == 13:\n",
    "        if dice[0] == dice[1] or dice[0] == dice[2] or dice[1] == dice[2]:\n",
    "            print(\"Crag!\")\n",
    "            return 50\n",
    "        else:\n",
    "            print(\"Thirteen\")\n",
    "            return 26\n",
    "    elif dice[0] == dice[1] and dice[0] == dice[2]:\n",
    "        print(\"Three of a Kind\")\n",
    "        return 25\n",
    "    elif 1 in dice and 2 in dice and 3 in dice:\n",
    "        print('Low Straight')\n",
    "        return 20\n",
    "    elif 1 in dice and 3 in dice and 5 in dice:\n",
    "        print('Odd Straight')\n",
    "        return 20\n",
    "    elif 2 in dice and 4 in dice and 6 in dice:\n",
    "        print('Even Straight')\n",
    "        return 20\n",
    "    elif 4 in dice and 5 in dice and 6 in dice:\n",
    "        print('High Straight')\n",
    "        return 20\n",
    "    elif dice[0] == dice[1] or dice[0] == dice[2]:\n",
    "        print(f\"{dice[0]}'s\")\n",
    "        return dice[0] * 2\n",
    "    elif dice[1] == dice[2]:\n",
    "        print(f\"{dice[1]}'s\")\n",
    "        return dice[1] * 2\n",
    "    else:\n",
    "        if dice[0] > dice[1] and dice[0] > dice[2]:\n",
    "            print(f\"{dice[0]}'s\")\n",
    "            return dice[0]\n",
    "        elif dice[1] > dice[2]:\n",
    "            print(f\"{dice[1]}'s\")\n",
    "            return dice[1]\n",
    "        else:\n",
    "            print(f\"{dice[2]}'s\")\n",
    "            return dice[0]\n",
    "        \n",
    "print(crag_score([1, 2, 3]))\n",
    "print(crag_score([4, 5, 1]))\n",
    "print(crag_score([3, 3, 3]))\n",
    "print(crag_score([4, 5, 4]))\n",
    "print(crag_score([1, 1, 1]))\n",
    "print(crag_score([1, 1, 2]))"
   ]
  },
  {
   "cell_type": "markdown",
   "metadata": {},
   "source": [
    "# Three pointers"
   ]
  },
  {
   "cell_type": "code",
   "execution_count": 82,
   "metadata": {},
   "outputs": [
    {
     "name": "stdout",
     "output_type": "stream",
     "text": [
      "True\n",
      "False\n",
      "True\n"
     ]
    }
   ],
   "source": [
    "def two_summers(items, goal, i=0, j=None):\n",
    "    j = len(items) - 1 if j is None else j\n",
    "    while i < j:\n",
    "        x = items[i] + items[j]\n",
    "        if x == goal:\n",
    "            return True  # Okay, that's a solution.\n",
    "        elif x < goal:\n",
    "            i += 1  # Smallest element can't be part of solution.\n",
    "        else:\n",
    "            j -= 1  # Largest element can't be part of solution.\n",
    "    return False\n",
    "\n",
    "def three_summers(items, goal):\n",
    "    ix = 0\n",
    "    jx = len(items) - 2\n",
    "    while ix < jx:\n",
    "        xgoal = goal - items[ix]\n",
    "        if two_summers(items,xgoal,i = ix+1) == True:\n",
    "            return True\n",
    "        else: ix += 1\n",
    "    return False\n",
    "\n",
    "print(three_summers([10, 11, 16, 18, 19],40))\n",
    "print(three_summers([10, 11, 16, 18, 19],41))\n",
    "print(three_summers([1, 2, 3],6))\n",
    "\n",
    "        "
   ]
  },
  {
   "cell_type": "code",
   "execution_count": 93,
   "metadata": {},
   "outputs": [
    {
     "name": "stdout",
     "output_type": "stream",
     "text": [
      "(77235, 39566)\n"
     ]
    }
   ],
   "source": [
    "def sum_of_two_squares(n):\n",
    "    i = 1\n",
    "    j = 1\n",
    "    while j<=i:\n",
    "        x = i**2 + j**2\n",
    "        if x == n: return (i,j)\n",
    "        elif x < n: i+=1\n",
    "        else:\n",
    "            j+=1\n",
    "            i-=1\n",
    "    return None\n",
    "print(sum_of_two_squares(55555**2 + 66666**2))"
   ]
  },
  {
   "cell_type": "markdown",
   "metadata": {},
   "source": [
    "# Counting Carrys"
   ]
  },
  {
   "cell_type": "code",
   "execution_count": 103,
   "metadata": {},
   "outputs": [
    {
     "name": "stdout",
     "output_type": "stream",
     "text": [
      "0\n",
      "5\n",
      "0\n",
      "9\n",
      "13\n",
      "1000\n"
     ]
    }
   ],
   "source": [
    "def count_carries(a, b):\n",
    "    carry = 0\n",
    "    carryflag = 0\n",
    "    while a + b > 0:\n",
    "        if a % 10 + b % 10 + carryflag > 9:\n",
    "            carry += 1\n",
    "            carryflag = 1\n",
    "        else: carryflag = 0\n",
    "        a = a // 10\n",
    "        b = (b // 10)\n",
    "    return carry\n",
    "\n",
    "print(count_carries(0,0))\n",
    "print(count_carries(99999,1))\n",
    "print(count_carries(11111111,22222222))\n",
    "print(count_carries(123456789,987654321))\n",
    "print(count_carries(2**100,2**100-1))\n",
    "print(count_carries(10**1000 - 123**456,123**456))"
   ]
  },
  {
   "cell_type": "markdown",
   "metadata": {},
   "source": [
    "# Leibniz Triangles"
   ]
  },
  {
   "cell_type": "code",
   "execution_count": null,
   "metadata": {},
   "outputs": [
    {
     "data": {
      "text/plain": [
       "[5, -1, 0, 0, 0, 0]"
      ]
     },
     "execution_count": 5,
     "metadata": {},
     "output_type": "execute_result"
    }
   ],
   "source": [
    "def leibniz(heads):\n",
    "    oldrow = [heads[0]]\n",
    "    for i in range(1,len(heads)):\n",
    "        row = [heads[i]]\n",
    "        for j in range(len(oldrow)):\n",
    "            row.append(oldrow[j] - row[j])\n",
    "        oldrow = row\n",
    "    return row\n",
    "leibniz(range(6))"
   ]
  },
  {
   "cell_type": "markdown",
   "metadata": {},
   "source": [
    "# Expanding and Collapsing Intervals"
   ]
  },
  {
   "cell_type": "code",
   "execution_count": 27,
   "metadata": {},
   "outputs": [
    {
     "data": {
      "text/plain": [
       "[1, 3, 4, 5, 6, 7, 8, 9, 12, 13, 14, 9999]"
      ]
     },
     "execution_count": 27,
     "metadata": {},
     "output_type": "execute_result"
    }
   ],
   "source": [
    "def expand_intervals(intervals):\n",
    "    if intervals == '': return []\n",
    "    commasplit = (intervals.split(','))\n",
    "    finlist = []\n",
    "    for series in commasplit:\n",
    "        series = series.split('-')\n",
    "        if len(series) > 1:\n",
    "            for i in range(int(series[0]),int(series[1])+1): finlist.append(i)\n",
    "        else: finlist.append(int(series[0]))\n",
    "    return finlist\n",
    "expand_intervals('1,3-9,12-14,9999')"
   ]
  },
  {
   "cell_type": "code",
   "execution_count": 63,
   "metadata": {},
   "outputs": [
    {
     "data": {
      "text/plain": [
       "'1-1000000,'"
      ]
     },
     "execution_count": 63,
     "metadata": {},
     "output_type": "execute_result"
    }
   ],
   "source": [
    "def collapse_intervals(items):\n",
    "    result = ''\n",
    "    items.append(999999999)\n",
    "    i = 0\n",
    "    while i < len(items)-1:\n",
    "        if items[i] + 1 == items[i+1]:\n",
    "            result += f'{items[i]}'\n",
    "            while items[i] + 1 == items[i+1]: i+=1\n",
    "            result += f'-{items[i]},'\n",
    "            i+=1\n",
    "        else: \n",
    "            result += f'{items[i]},'\n",
    "            i+=1\n",
    "    return result\n",
    "\n",
    "collapse_intervals(list(range(1, 1000001)))\n",
    "        \n",
    "            \n"
   ]
  },
  {
   "cell_type": "markdown",
   "metadata": {},
   "source": [
    "# Prominence"
   ]
  },
  {
   "cell_type": "code",
   "execution_count": null,
   "metadata": {},
   "outputs": [
    {
     "data": {
      "text/plain": [
       "(0, 45, 45)"
      ]
     },
     "execution_count": 13,
     "metadata": {},
     "output_type": "execute_result"
    }
   ],
   "source": [
    "def prominences(height):\n",
    "    peaks = []\n",
    "    prev = 0\n",
    "    prominence = 0\n",
    "    if len(height) == 1: return(0,height[0],height[0])\n",
    "    for i in range(len(height)):\n",
    "        if i + 1 < len(height): # All but the rightmost height\n",
    "            if height[i] > prev and height[i] > height[i+1]:\n",
    "                prominence = height[i] # Baseline if no higher peaks\n",
    "                for j in range(i,0,-1): # Check for higher peaks to left starting at peak\n",
    "                    if height[j] > height[i]: # Only if higher peak found\n",
    "                        minima = height[i] # Baseline minima\n",
    "                        for k in range(i,j,-1):\n",
    "                            if height[k] < minima: minima = height[k] # Lowest point between two peaks\n",
    "                        prominence = height[i] - minima\n",
    "                        break\n",
    "                for j in range(i,len(height)): # Check for higher peak to the right\n",
    "                    if height[j] > height[i]: # Only if higher peak found\n",
    "                        minima = height[i] # Baseline\n",
    "                        for k in range(i,j):\n",
    "                            if height[k] < minima: minima = height[k] # Lowest point between two peaks\n",
    "                        if height[i] - minima < prominence: prominence = height[i] - minima # Only if smaller than left side prominence\n",
    "                        break\n",
    "                peaks.append((i,height[i],prominence))\n",
    "        elif height[i] > height[i-1]: # Rightmost height\n",
    "            prominence = height[i]\n",
    "            for j in range(i,0,-1): # Repeat Checking for higher peaks to left\n",
    "                if height[j] > height[i]:\n",
    "                    minima = height[i]\n",
    "                    for k in range(i,j,-1):\n",
    "                        if height[k] < minima: minima = height[k]\n",
    "                    prominence = height[i] - minima\n",
    "            peaks.append((i,height[i],prominence))\n",
    "        prev = height[i]\n",
    "    return peaks\n",
    "                \n",
    "\n",
    "prominences([1, 10, 8, 10, 5, 11])"
   ]
  },
  {
   "cell_type": "markdown",
   "metadata": {},
   "source": [
    "# Steady State"
   ]
  },
  {
   "cell_type": "code",
   "execution_count": null,
   "metadata": {},
   "outputs": [
    {
     "data": {
      "text/plain": [
       "10"
      ]
     },
     "execution_count": 21,
     "metadata": {},
     "output_type": "execute_result"
    }
   ],
   "source": [
    "def candy_share(candies):\n",
    "    count = -1 # -1 to account for one loop the check for no givers\n",
    "    givers = [0] # Initiate condition for loop\n",
    "    while len(givers) > 0: # Continues if anyone gave candies last round\n",
    "        givers = []\n",
    "        for i in range(len(candies)): #For loop creates list of people who will give this round\n",
    "            if candies[i] > 1:\n",
    "                givers.append(i)\n",
    "        for giver in givers: # Seperating this step simulates everyone giving simultaneously\n",
    "            candies[giver] -= 2\n",
    "            candies[giver-1] += 1\n",
    "            if giver != len(candies)-1: # If not right most position\n",
    "                candies[giver+1] += 1\n",
    "            else: candies[0] += 1 # Right most position loops to left most simulating a circle\n",
    "        count += 1\n",
    "    return count\n",
    "\n",
    "candy_share([5, 1, 0, 0, 0, 0, 0, 1, 0])\n"
   ]
  },
  {
   "cell_type": "markdown",
   "metadata": {},
   "source": [
    "# Duplicate number bonus"
   ]
  },
  {
   "cell_type": "code",
   "execution_count": 29,
   "metadata": {},
   "outputs": [
    {
     "data": {
      "text/plain": [
       "15418"
      ]
     },
     "execution_count": 29,
     "metadata": {},
     "output_type": "execute_result"
    }
   ],
   "source": [
    "def duplicate_digit_bonus(n):\n",
    "    score = 0\n",
    "    endbonus = 2\n",
    "    while n > 0:\n",
    "        if n % 10 == (n // 10) % 10:\n",
    "            k = -1\n",
    "            while n % 10 == (n // 10) % 10:\n",
    "                k+=1\n",
    "                n = n // 10\n",
    "            score += endbonus * (10**k)\n",
    "            endbonus = 1\n",
    "        else:\n",
    "            n = n//10\n",
    "            endbonus = 1\n",
    "    return score\n",
    "\n",
    "duplicate_digit_bonus(1234**5678)\n",
    "\n"
   ]
  },
  {
   "cell_type": "markdown",
   "metadata": {},
   "source": [
    "# Nearest smaller number"
   ]
  },
  {
   "cell_type": "code",
   "execution_count": 35,
   "metadata": {},
   "outputs": [
    {
     "data": {
      "text/plain": [
       "[2, 1, 1, 1, 1, 13, 5, 1, 5, 11, 19]"
      ]
     },
     "execution_count": 35,
     "metadata": {},
     "output_type": "execute_result"
    }
   ],
   "source": [
    "def nearest_smaller(items):\n",
    "    output = []\n",
    "    for i in range(len(items)):\n",
    "        j = 1\n",
    "        smaller = False\n",
    "        while smaller == False and j < len(items):\n",
    "            value = items[i]\n",
    "            if i - j >= 0:\n",
    "                if items[i-j] < value:\n",
    "                    value = items[i-j]\n",
    "                    smaller = True\n",
    "            if i + j < len(items):\n",
    "                if items[i+j] < value:\n",
    "                    value = items[i+j]\n",
    "                    smaller = True\n",
    "            j+=1\n",
    "        output.append(value)\n",
    "    return output\n",
    "\n",
    "nearest_smaller([5, 2, 10, 1, 13, 15, 14, 5, 11,\n",
    "19, 22])\n",
    "            \n"
   ]
  },
  {
   "cell_type": "markdown",
   "metadata": {},
   "source": [
    "# Ordinal Transformation"
   ]
  },
  {
   "cell_type": "code",
   "execution_count": 21,
   "metadata": {},
   "outputs": [
    {
     "data": {
      "text/plain": [
       "17"
      ]
     },
     "execution_count": 21,
     "metadata": {},
     "output_type": "execute_result"
    }
   ],
   "source": [
    "def ordinal_transform(seed, i):\n",
    "    while len(seed) <= i:    \n",
    "        ordinal = []\n",
    "        transform = dict()\n",
    "        for j in range(len(seed)):    \n",
    "            if seed[j] not in transform:\n",
    "                transform[seed[j]] = 1\n",
    "            else: transform[seed[j]] += 1\n",
    "            ordinal.append(transform[seed[j]])\n",
    "        seed = seed + ordinal\n",
    "    return seed[i]\n",
    "ordinal_transform([2, 10, 10, 8, 10, 10, 8, 10, 8],196)\n",
    "\n"
   ]
  },
  {
   "cell_type": "code",
   "execution_count": 63,
   "metadata": {},
   "outputs": [
    {
     "data": {
      "text/plain": [
       "(-4.3500000000000005, 91.35, -0.30000000000000004, 6.3)"
      ]
     },
     "execution_count": 63,
     "metadata": {},
     "output_type": "execute_result"
    },
    {
     "data": {
      "image/png": "[encoded data removed]",
      "text/plain": [
       "<Figure size 640x480 with 1 Axes>"
      ]
     },
     "metadata": {},
     "output_type": "display_data"
    }
   ],
   "source": [
    "import requests\n",
    "import pandas as pd\n",
    "from bs4 import BeautifulSoup\n",
    "import matplotlib.pyplot as plt\n",
    "\n",
    "url = \"https://docs.google.com/document/d/e/2PACX-1vQGUck9HIFCyezsrBSnmENk5ieJuYwpt7YHYEzeNJkIb9OSDdx-ov2nRNReKQyey-cwJOoEKUhLmN9z/pub\"\n",
    "data = requests.get(url).text\n",
    "soup = BeautifulSoup(data, 'html.parser')\n",
    "tableData = soup.find('table')\n",
    "tableData\n",
    "rows = tableData.find_all('tr')\n",
    "\n",
    "df = pd.DataFrame([[str(x.string) for x in row.find_all('td')] for row in rows[1:]])\n",
    "df.columns = ['x-coordinate','Character','y-coordinate']\n",
    "df\n",
    "plt.figure()\n",
    "plt.scatter(df['x-coordinate'], df['y-coordinate'], alpha=0)\n",
    "for _, row in df.iterrows():\n",
    "    plt.annotate(row['Character'], (row['x-coordinate'], row['y-coordinate']),fontsize = 6)\n",
    "plt.axis('equal')\n"
   ]
  },
  {
   "cell_type": "code",
   "execution_count": 61,
   "metadata": {},
   "outputs": [
    {
     "name": "stdout",
     "output_type": "stream",
     "text": [
      "████████░     ████████░   ██████████░    ███████░     ██░     ██░     ███░    ███░ ██░     ██░\n",
      "██░     ██░ ███░     ███░ ██░          ███░    ██░   ████░   ████░      ██░  ██░   ██░     ██░\n",
      "██░     ██░ ██░       ██░ ██░         ███░           ██░██░ ██░██░       ██░██░    ██░     ██░\n",
      "████████░   ██░       ██░ ████████░   ██░           ███░ ██░██░ ██░       ███░     ██████████░\n",
      "██░     ██░ ██░       ██░ ██░         ███░          ██░  █████░ ███░     ██░██░    ██░     ██░\n",
      "██░     ██░ ███░     ███░ ██░          ███░    ██░ ███░   ███░   ██░    ██░  ██░   ██░     ██░\n",
      "████████░     ████████░   ██████████░    ███████░  ██░           ███░ ███░    ███░ ██░     ██░\n"
     ]
    }
   ],
   "source": [
    "from bs4 import BeautifulSoup as b_;import requests as r_\n",
    "def main(url):\n",
    "    if not url:url=input(\"url:\")\n",
    "    rs=r_.get(url);del url\n",
    "    if rs.status_code==200:soup = b_(rs.text,'html.parser');co=soup.get_text(separator='\\n');co=co.strip();del rs \n",
    "    start,nco=False,\"\"\n",
    "    for l in co.splitlines():\n",
    "        if start:nco+=l+\"\\n\"\n",
    "        if l.strip()==\"y-coordinate\":start=True\n",
    "    co=nco;del nco,start;ls=co.split(\"\\n\");result=[]\n",
    "    for i in range(0,len(ls),3):result.append(ls[i:i+3])\n",
    "    co=result;del result;x=0;y=0\n",
    "    for n in co:\n",
    "        if len(n)!=3:continue\n",
    "        if int(n[0])>x:x=int(n[0])\n",
    "        if int(n[2])>y:y=int(n[2])\n",
    "    x,y=x+1,y+1;array=[[\" \"for _ in range(x)]for _ in range(y)];del x,y\n",
    "    for l in co:\n",
    "        if len(l)!=3:continue\n",
    "        xt=int(l[0]);char=l[1];yt=int(l[2]);array[yt][xt]=char\n",
    "    del co,xt,yt\n",
    "    for row in array:\n",
    "        print(\"\".join(row))\n",
    "    del array\n",
    "url = 'https://docs.google.com/document/d/e/2PACX-1vQGUck9HIFCyezsrBSnmENk5ieJuYwpt7YHYEzeNJkIb9OSDdx-ov2nRNReKQyey-cwJOoEKUhLmN9z/pub';main(url)"
   ]
  }
 ],
 "metadata": {
  "kernelspec": {
   "display_name": "dev",
   "language": "python",
   "name": "python3"
  },
  "language_info": {
   "codemirror_mode": {
    "name": "ipython",
    "version": 3
   },
   "file_extension": ".py",
   "mimetype": "text/x-python",
   "name": "python",
   "nbconvert_exporter": "python",
   "pygments_lexer": "ipython3",
   "version": "3.10.16"
  }
 },
 "nbformat": 4,
 "nbformat_minor": 2
}
